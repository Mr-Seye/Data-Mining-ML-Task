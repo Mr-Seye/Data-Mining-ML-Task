{
 "cells": [
  {
   "cell_type": "markdown",
   "id": "d683ae67-9212-4c23-be16-66641f26a62b",
   "metadata": {},
   "source": [
    "#Data Minining and Machine Learning\n",
    "##  Task 2 - Classification/Regression"
   ]
  },
  {
   "cell_type": "code",
   "execution_count": null,
   "id": "17f4e022-7fd2-4196-8e9b-db3e6d8ccdb4",
   "metadata": {},
   "outputs": [],
   "source": [
    "# Hyper-parameters\n",
    "# User can specify size of the hidden layers\n",
    "# Max number of iterations, starting random\n",
    "# state seed for weights and the learning rate\n",
    "\n",
    "layer_sizes = (100, 50, 25)\n",
    "iter = 500\n",
    "rand_state = 42\n",
    "learn_rate = 0.001"
   ]
  },
  {
   "cell_type": "code",
   "execution_count": null,
   "id": "6bf09d35-4019-42e2-9803-092437fd5d16",
   "metadata": {},
   "outputs": [],
   "source": [
    "# This block takes the pre-processing block from task 1 (as asked) to use for\n",
    "# the MLP for this task.\n",
    "\n",
    "import numpy as np\n",
    "from sklearn.preprocessing import StandardScaler\n",
    "\n",
    "train_data = np.load('x_train.npy')\n",
    "train_labels = np.load('y_train.npy')\n",
    "test_data = np.load('x_test.npy')\n",
    "test_labels = np.load('y_test.npy')\n",
    "\n",
    "scaler = StandardScaler()\n",
    "train_data_scaled = scaler.fit_transform(train_data)\n",
    "test_data_scaled = scaler.transform(test_data)"
   ]
  },
  {
   "cell_type": "code",
   "execution_count": null,
   "id": "d4c39b52-9060-4055-bd85-a38cb98d6ebb",
   "metadata": {},
   "outputs": [],
   "source": [
    "# This block implements a MLP classifier, trains it on the transformed data, \n",
    "# makes predicitons and produces an accuracy score.\n",
    "\n",
    "from sklearn.neural_network import MLPClassifier\n",
    "from sklearn.metrics import accuracy_score\n",
    "\n",
    "# Initialises a MLP with 2 hidden layer of 100 and 50 units\n",
    "# It will iterate a maximum of 500 times and has\n",
    "# random seed for neuron weight of 42.\n",
    "mlp_classifier = MLPClassifier(hidden_layer_sizes=layer_sizes, max_iter=iter, random_state=rand_state, learning_rate_init=learn_rate)\n",
    "mlp_classifier.fit(train_data_scaled, train_labels)\n",
    "\n",
    "predictions = mlp_classifier.predict(test_data_scaled)\n",
    "\n",
    "accuracy = accuracy_score(test_labels, predictions)\n",
    "print(f\"Accuracy: {accuracy * 100} %\")"
   ]
  }
 ],
 "metadata": {
  "kernelspec": {
   "display_name": "Python 3 (ipykernel)",
   "language": "python",
   "name": "python3"
  },
  "language_info": {
   "codemirror_mode": {
    "name": "ipython",
    "version": 3
   },
   "file_extension": ".py",
   "mimetype": "text/x-python",
   "name": "python",
   "nbconvert_exporter": "python",
   "pygments_lexer": "ipython3",
   "version": "3.9.19"
  }
 },
 "nbformat": 4,
 "nbformat_minor": 5
}
